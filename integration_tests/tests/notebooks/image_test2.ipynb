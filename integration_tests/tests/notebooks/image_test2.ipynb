{
 "cells": [
  {
   "cell_type": "code",
   "execution_count": null,
   "metadata": {},
   "outputs": [],
   "source": [
    "import numpy as np\n",
    "import wandb\n",
    "\n",
    "wandb.init(user=\"local\", project='image-test')\n",
    "\n",
    "IMG_WIDTH = 5\n",
    "IMG_HEIGHT = 5\n",
    "IMG_COUNT = 5\n",
    "# Step count\n",
    "N = 10\n",
    "\n",
    "def gen_image(w=IMG_WIDTH, h=IMG_HEIGHT):\n",
    "    return np.concatenate(\n",
    "        (np.random.rand(h//2, w),\n",
    "         np.zeros((h//2, w))),\n",
    "        axis=0)\n",
    "\n",
    "\n",
    "for i in range(0, N):\n",
    "    wandb.log({\"test_summary_image\":\n",
    "               [wandb.Image(gen_image()) for _ in range(IMG_COUNT)], \"i\": i}, step=i)\n"
   ]
  }
 ],
 "metadata": {
  "kernelspec": {
   "display_name": "Python 2",
   "language": "python",
   "name": "python2"
  },
  "language_info": {
   "codemirror_mode": {
    "name": "ipython",
    "version": 2
   },
   "file_extension": ".py",
   "mimetype": "text/x-python",
   "name": "python",
   "nbconvert_exporter": "python",
   "pygments_lexer": "ipython2",
   "version": "2.7.16"
  }
 },
 "nbformat": 4,
 "nbformat_minor": 2
}
